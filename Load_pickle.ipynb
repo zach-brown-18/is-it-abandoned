{
 "cells": [
  {
   "cell_type": "markdown",
   "metadata": {},
   "source": [
    "# Modeling\n",
    "\n",
    "Build x, y, and z models through a supervised learning approach."
   ]
  },
  {
   "cell_type": "code",
   "execution_count": 1,
   "metadata": {},
   "outputs": [],
   "source": [
    "import pickle\n",
    "import geopandas as gp\n",
    "from geopandas.tools import sjoin\n",
    "import matplotlib.pyplot as plt"
   ]
  },
  {
   "cell_type": "code",
   "execution_count": null,
   "metadata": {},
   "outputs": [],
   "source": [
    "# Load the LiDAR GeoDataFrame\n",
    "pickled_file = open(\"las_file_geodf\", \"rb\")\n",
    "lidar_gdf = pickle.load(pickled_file)\n",
    "lidar_gdf"
   ]
  },
  {
   "cell_type": "code",
   "execution_count": null,
   "metadata": {},
   "outputs": [],
   "source": [
    "# Abandoned building data is stored here\n",
    "base_path = './training_data/abandoned_and_vacant/'\n",
    "\n",
    "# Abandoned building shapefile\n",
    "gdf_abandoned = gp.read_file(base_path + 'Abandoned_And_Vacant_Housing.shp', crs='EPSG:4326')\n",
    "\n",
    "# Filter for abandoned buildings within the satellite image\n",
    "x_abandoned = gdf_abandoned['geometry'].representative_point().x\n",
    "y_abandoned = gdf_abandoned['geometry'].representative_point().y\n",
    "\n",
    "# Bounds for LiDAR tile\n",
    "x_min, x_max, y_min, y_max = -86.14016495696444, -86.12228581315563, 39.76377561875412, 39.777572323113745\n",
    "\n",
    "x_valid = (x_abandoned > x_min) & (x_abandoned < x_max)\n",
    "y_valid = (y_abandoned > y_min) & (y_abandoned < y_max)\n",
    "\n",
    "gdf_abandoned_filtered = gdf_abandoned.loc[x_valid & y_valid, :].copy().reset_index(drop=True)\n",
    "gdf_abandoned_filtered.loc[:, ['STATUS', 'geometry']].head()"
   ]
  },
  {
   "cell_type": "code",
   "execution_count": null,
   "metadata": {},
   "outputs": [],
   "source": []
  }
 ],
 "metadata": {
  "kernelspec": {
   "display_name": "Python 3",
   "language": "python",
   "name": "python3"
  },
  "language_info": {
   "codemirror_mode": {
    "name": "ipython",
    "version": 3
   },
   "file_extension": ".py",
   "mimetype": "text/x-python",
   "name": "python",
   "nbconvert_exporter": "python",
   "pygments_lexer": "ipython3",
   "version": "3.7.6"
  }
 },
 "nbformat": 4,
 "nbformat_minor": 4
}
