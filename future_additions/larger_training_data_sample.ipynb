{
 "cells": [
  {
   "cell_type": "markdown",
   "id": "animal-clause",
   "metadata": {},
   "source": [
    "# Larger Training Data Sample Size"
   ]
  },
  {
   "cell_type": "code",
   "execution_count": 1,
   "id": "successful-opinion",
   "metadata": {},
   "outputs": [],
   "source": [
    "import geopandas as gp\n",
    "import os\n",
    "import numpy as np\n",
    "from laspy.file import File\n",
    "import pandas as pd\n",
    "from shapely.geometry import Point\n",
    "import matplotlib.pyplot as plt\n",
    "import pickle"
   ]
  },
  {
   "cell_type": "code",
   "execution_count": 3,
   "id": "federal-stock",
   "metadata": {},
   "outputs": [
    {
     "data": {
      "text/plain": [
       "['MC_01951645.las',\n",
       " 'MC_01951650.las',\n",
       " 'MC_01951640.las',\n",
       " 'MC_02051640.las',\n",
       " 'MC_02051650.las',\n",
       " 'MC_02051645.las',\n",
       " 'MC_02001645.las',\n",
       " 'MC_02001650.las',\n",
       " 'MC_02001640.las']"
      ]
     },
     "execution_count": 3,
     "metadata": {},
     "output_type": "execute_result"
    }
   ],
   "source": [
    "# Lidar satellite data\n",
    "las_files = [f for f in os.listdir('../training_data/las_files/') if f[0]!='.']\n",
    "\n",
    "las_files"
   ]
  },
  {
   "cell_type": "code",
   "execution_count": 4,
   "id": "phantom-mountain",
   "metadata": {},
   "outputs": [],
   "source": [
    "def las_to_geodf(filename, crs=None):\n",
    "    '''Convert an .las file to a Geopandas Geodataframe object.'''\n",
    "\n",
    "    print('Trying file', filename, '\\n')\n",
    "    usft_to_meter = 0.30480060960121924\n",
    "    base_path = '../training_data/las_files/'\n",
    "\n",
    "    #Read LAS file\n",
    "    try:\n",
    "        inFile = File(base_path + filename)\n",
    "        print('inFile accepted.')\n",
    "    except:\n",
    "        print(filename, \" failed.\")\n",
    "        return None\n",
    "\n",
    "    #Import LAS into numpy array\n",
    "    lidar_points = np.array((inFile.x*usft_to_meter,\n",
    "                             inFile.y*usft_to_meter,\n",
    "                             inFile.z*usft_to_meter,\n",
    "                             inFile.intensity,\n",
    "                             inFile.classification)).transpose()\n",
    "    print('information accepted.')\n",
    "\n",
    "    #Transform to geopandas GeoDataFrame\n",
    "    lidar_geodf = gp.GeoDataFrame(lidar_points, geometry = gp.points_from_xy(inFile.x, inFile.y), crs=crs)\n",
    "    lidar_geodf.rename(columns = {0:'x', 1:'y', 2:'z', 3:'intensity', 4:'classification'}, inplace=True)\n",
    "    print('points accepted.')\n",
    "\n",
    "    print(filename, \" successful.\\n\")\n",
    "    inFile.close()\n",
    "\n",
    "    return lidar_geodf"
   ]
  },
  {
   "cell_type": "code",
   "execution_count": 5,
   "id": "aging-maintenance",
   "metadata": {},
   "outputs": [],
   "source": [
    "def merge_geodfs(geodfs):\n",
    "  result_gdf = geodfs[0]\n",
    "  for gdf in geodfs[1:]:\n",
    "    result_gdf = result_gdf.append(gdf).reset_index(drop=True)\n",
    "  return result_gdf"
   ]
  },
  {
   "cell_type": "code",
   "execution_count": null,
   "id": "canadian-aside",
   "metadata": {},
   "outputs": [],
   "source": [
    "# Convert all las files to geodataframes\n",
    "gdfs = [las_to_geodf(file, crs=crs_input), for file in las_files]\n",
    "gdf"
   ]
  },
  {
   "cell_type": "markdown",
   "id": "laughing-tablet",
   "metadata": {},
   "source": [
    "Expect these files to fail:  \n",
    "MC_02051640.las  \n",
    "MC_02001645.las  \n",
    "MC_02001640.las  "
   ]
  },
  {
   "cell_type": "code",
   "execution_count": null,
   "id": "considerable-excerpt",
   "metadata": {},
   "outputs": [],
   "source": [
    "# Create a single geodataframe\n",
    "lidar_geodf = merge_geodfs(lidar_geodfs)\n",
    "lidar_geodf"
   ]
  },
  {
   "cell_type": "markdown",
   "id": "linear-grace",
   "metadata": {},
   "source": [
    "Resulting dataframe is:  \n",
    "64464045 rows × 7 columns"
   ]
  },
  {
   "cell_type": "code",
   "execution_count": null,
   "id": "trained-latitude",
   "metadata": {},
   "outputs": [],
   "source": []
  }
 ],
 "metadata": {
  "kernelspec": {
   "display_name": "Python 3",
   "language": "python",
   "name": "python3"
  },
  "language_info": {
   "codemirror_mode": {
    "name": "ipython",
    "version": 3
   },
   "file_extension": ".py",
   "mimetype": "text/x-python",
   "name": "python",
   "nbconvert_exporter": "python",
   "pygments_lexer": "ipython3",
   "version": "3.9.1"
  }
 },
 "nbformat": 4,
 "nbformat_minor": 5
}
