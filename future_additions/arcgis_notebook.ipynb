{
 "metadata": {
  "language_info": {
   "codemirror_mode": {
    "name": "ipython",
    "version": 3
   },
   "file_extension": ".py",
   "mimetype": "text/x-python",
   "name": "python",
   "nbconvert_exporter": "python",
   "pygments_lexer": "ipython3",
   "version": 3
  },
  "orig_nbformat": 2
 },
 "nbformat": 4,
 "nbformat_minor": 2,
 "cells": [
  {
   "cell_type": "code",
   "execution_count": null,
   "metadata": {},
   "outputs": [],
   "source": [
    "# qgis - open source version of the arcgis application"
   ]
  },
  {
   "cell_type": "code",
   "execution_count": null,
   "metadata": {},
   "outputs": [],
   "source": [
    "from arcgis.gis import GIS\n",
    "from arcgis.learn import UnetClassifier, prepare_data\n",
    "from api_key import arcgis_username, arcgis_password"
   ]
  },
  {
   "cell_type": "code",
   "execution_count": null,
   "metadata": {},
   "outputs": [],
   "source": [
    "# My ArcGIS Pro home webpage\n",
    "url = 'https://ga-1019.maps.arcgis.com/home/'\n",
    "\n",
    "# GIS object to access arcgis maps and geo-data\n",
    "my_gis = GIS(url, username=arcgis_username, password=arcgis_password)\n",
    "\n",
    "# GIS object to access arcgis maps and geo-data\n",
    "gis = GIS()\n",
    "\n",
    "# Find a layer of vacant buildings in Indianapolis\n",
    "vacant_layer = gis.content.get('20ddf5d08b704262ab501ae46df8e550')\n",
    "\n",
    "vacant_layer"
   ]
  },
  {
   "cell_type": "code",
   "execution_count": null,
   "metadata": {},
   "outputs": [],
   "source": [
    "# Create the map\n",
    "indy = gis.map('Indianapolis, IN', zoomlevel=14)\n",
    "\n",
    "# Overlay satellite imagery\n",
    "indy.basemap = 'satellite'\n",
    "\n",
    "# Show vacant buildings\n",
    "indy.add_layer(vacant_layer)"
   ]
  },
  {
   "source": [
    "## Map of vacant properties"
   ],
   "cell_type": "markdown",
   "metadata": {}
  },
  {
   "cell_type": "code",
   "execution_count": null,
   "metadata": {},
   "outputs": [],
   "source": [
    "indy"
   ]
  },
  {
   "source": [
    "## Map of all buildings"
   ],
   "cell_type": "markdown",
   "metadata": {}
  },
  {
   "cell_type": "code",
   "execution_count": null,
   "metadata": {},
   "outputs": [],
   "source": [
    "indy_all = gis.map('Indianapolis, IN', zoomlevel=14)\n",
    "indy_all.basemap = 'satellite'\n",
    "\n",
    "indy_all"
   ]
  }
 ]
}