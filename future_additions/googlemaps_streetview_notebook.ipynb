{
 "metadata": {
  "language_info": {
   "codemirror_mode": {
    "name": "ipython",
    "version": 3
   },
   "file_extension": ".py",
   "mimetype": "text/x-python",
   "name": "python",
   "nbconvert_exporter": "python",
   "pygments_lexer": "ipython3",
   "version": 3
  },
  "orig_nbformat": 2
 },
 "nbformat": 4,
 "nbformat_minor": 2,
 "cells": [
  {
   "source": [
    "## Google Maps Streetview\n",
    "\n",
    "Adding street view imagery for each building creates a more complete notion of whether a house is abandoned or not. This additional data is expected to improve the performance of the model.\n",
    "\n",
    "**I will not proceed with this approach**, as the Google Maps Static Streetview API is costly at scale. A single API call costs \\$0.007 per image returned, which, at the total of 500,000 buildings required to train the model, adds \\\\$3,500 to the project's expenses.\n",
    "\n",
    "A governmental deparment may implement street view data in a cost-effective manner by requesting images exclusively for buildings which have been identified as potentially abandoned by the model. A building inspector would use these images to prioritize inspections."
   ],
   "cell_type": "markdown",
   "metadata": {}
  },
  {
   "cell_type": "code",
   "execution_count": null,
   "metadata": {},
   "outputs": [],
   "source": [
    "import requests\n",
    "from api_key import google_api_key"
   ]
  },
  {
   "cell_type": "code",
   "execution_count": null,
   "metadata": {},
   "outputs": [],
   "source": [
    "url_base = 'https://maps.googleapis.com/maps/api/streetview?'\n",
    "api_key = google_api_key\n",
    "location = '1410 Shannon Ave, Indianapolis, IN 46201'\n",
    "size = '456x456'\n",
    "\n",
    "params = {\n",
    "    'key': api_key,\n",
    "    'location': location,\n",
    "    'size': size\n",
    "}\n",
    "\n",
    "\n",
    "pic_response = requests.get(url_base, params=params)"
   ]
  },
  {
   "cell_type": "code",
   "execution_count": null,
   "metadata": {},
   "outputs": [],
   "source": [
    "pic_response.headers"
   ]
  },
  {
   "cell_type": "code",
   "execution_count": null,
   "metadata": {},
   "outputs": [],
   "source": [
    "# Save the image locally\n",
    "with open('test.jpg', 'wb') as file:\n",
    "    file.write(pic_response.content)\n",
    "\n",
    "pic_response.close()"
   ]
  },
  {
   "cell_type": "code",
   "execution_count": null,
   "metadata": {},
   "outputs": [],
   "source": [
    "# using matpltolib to display the image\n",
    "import matplotlib.pyplot as plt\n",
    "import matplotlib.image as mpimg\n",
    "\n",
    "plt.figure(figsize=(10, 10))\n",
    "img = mpimg.imread('test.jpg')\n",
    "imgplot = plt.imshow(img)\n",
    "plt.show()"
   ]
  }
 ]
}