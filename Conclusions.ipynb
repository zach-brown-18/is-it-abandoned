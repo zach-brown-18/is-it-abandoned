{
 "cells": [
  {
   "cell_type": "markdown",
   "metadata": {},
   "source": [
    "# Conclusions"
   ]
  },
  {
   "cell_type": "markdown",
   "metadata": {},
   "source": [
    "Based on the failure of all three models to improve on the baseline accuracy, paired with the extremely low sensitivity scores on both training and testing images, I recommend this project be discontinued, or altered drastically. I believe the failure of these models is due largely to two factors: 1) LiDAR sensor data is a poor choice for the input image, and 2) Any differences in vacant and occupied buildings from an eagle-eye's view are slight, except for in cases of extreme damage.\n",
    "\n",
    "There are several promising options available to alter and further develop this project. I will list them below.\n",
    "1) Use satellite images in place of LiDAR sensor data.  \n",
    "2) Decrease the tile size, focusing particularly on buildings that are abandoned, so that the baseline accuracy will be lower.  \n",
    "3) Incorporate a two-fold ensemble model. One model predicts whether a parcel of land is abandoned from satellite imagery, while the other model predicts based off of Google Street View images from outside the residence.  "
   ]
  },
  {
   "cell_type": "code",
   "execution_count": 1,
   "metadata": {},
   "outputs": [],
   "source": [
    "from PIL import Image, ImageChops\n",
    "import skimage\n",
    "from skimage import io\n",
    "import numpy as np\n",
    "from sklearn.cluster import KMeans\n",
    "from sklearn.svm import SVC\n",
    "from sklearn.neural_network import MLPClassifier\n",
    "import matplotlib.pyplot as plt\n",
    "import pandas as pd"
   ]
  },
  {
   "cell_type": "code",
   "execution_count": 20,
   "metadata": {},
   "outputs": [],
   "source": [
    "train_scores = {'acc':{'baseline': 0.9780700564358584,\n",
    "                       'k_means': 0.9396706099413935,\n",
    "                       'mlp': 0.9780700564358584,\n",
    "                       'svm': 0.9781277132624268},\n",
    "                'sens':{'baseline': np.nan,\n",
    "                        'k_means': 0.0474791215589236,\n",
    "                        'mlp': 0.0,\n",
    "                        'svm': 0.002629137024435509}}\n",
    "\n",
    "test_scores = {'acc':{'baseline': 0.9842461200347298,\n",
    "                       'k_means': 0.9828827056652919,\n",
    "                       'mlp': 0.9780700564358584,\n",
    "                       'svm': 0.9781277132624268},\n",
    "                'sens':{'baseline': np.nan,\n",
    "                        'k_means': 0.0,\n",
    "                        'mlp': 0.0,\n",
    "                        'svm': 0.0}}"
   ]
  },
  {
   "cell_type": "code",
   "execution_count": 21,
   "metadata": {},
   "outputs": [],
   "source": [
    "train = pd.DataFrame(train_scores)\n",
    "test = pd.DataFrame(test_scores)\n",
    "\n",
    "train['acc_pct_change'] = (train['acc'] - train.loc['baseline', 'acc']) / train.loc['baseline', 'acc']\n",
    "test['acc_pct_change'] = (test['acc'] - test.loc['baseline', 'acc']) / test.loc['baseline', 'acc']"
   ]
  },
  {
   "cell_type": "code",
   "execution_count": 22,
   "metadata": {},
   "outputs": [
    {
     "data": {
      "text/html": [
       "<div>\n",
       "<style scoped>\n",
       "    .dataframe tbody tr th:only-of-type {\n",
       "        vertical-align: middle;\n",
       "    }\n",
       "\n",
       "    .dataframe tbody tr th {\n",
       "        vertical-align: top;\n",
       "    }\n",
       "\n",
       "    .dataframe thead th {\n",
       "        text-align: right;\n",
       "    }\n",
       "</style>\n",
       "<table border=\"1\" class=\"dataframe\">\n",
       "  <thead>\n",
       "    <tr style=\"text-align: right;\">\n",
       "      <th></th>\n",
       "      <th>acc</th>\n",
       "      <th>sens</th>\n",
       "      <th>acc_pct_change</th>\n",
       "    </tr>\n",
       "  </thead>\n",
       "  <tbody>\n",
       "    <tr>\n",
       "      <th>baseline</th>\n",
       "      <td>0.978070</td>\n",
       "      <td>NaN</td>\n",
       "      <td>0.000000</td>\n",
       "    </tr>\n",
       "    <tr>\n",
       "      <th>k_means</th>\n",
       "      <td>0.939671</td>\n",
       "      <td>0.047479</td>\n",
       "      <td>-0.039260</td>\n",
       "    </tr>\n",
       "    <tr>\n",
       "      <th>mlp</th>\n",
       "      <td>0.978070</td>\n",
       "      <td>0.000000</td>\n",
       "      <td>0.000000</td>\n",
       "    </tr>\n",
       "    <tr>\n",
       "      <th>svm</th>\n",
       "      <td>0.978128</td>\n",
       "      <td>0.002629</td>\n",
       "      <td>0.000059</td>\n",
       "    </tr>\n",
       "  </tbody>\n",
       "</table>\n",
       "</div>"
      ],
      "text/plain": [
       "               acc      sens  acc_pct_change\n",
       "baseline  0.978070       NaN        0.000000\n",
       "k_means   0.939671  0.047479       -0.039260\n",
       "mlp       0.978070  0.000000        0.000000\n",
       "svm       0.978128  0.002629        0.000059"
      ]
     },
     "execution_count": 22,
     "metadata": {},
     "output_type": "execute_result"
    }
   ],
   "source": [
    "train"
   ]
  },
  {
   "cell_type": "code",
   "execution_count": 23,
   "metadata": {},
   "outputs": [
    {
     "data": {
      "text/html": [
       "<div>\n",
       "<style scoped>\n",
       "    .dataframe tbody tr th:only-of-type {\n",
       "        vertical-align: middle;\n",
       "    }\n",
       "\n",
       "    .dataframe tbody tr th {\n",
       "        vertical-align: top;\n",
       "    }\n",
       "\n",
       "    .dataframe thead th {\n",
       "        text-align: right;\n",
       "    }\n",
       "</style>\n",
       "<table border=\"1\" class=\"dataframe\">\n",
       "  <thead>\n",
       "    <tr style=\"text-align: right;\">\n",
       "      <th></th>\n",
       "      <th>acc</th>\n",
       "      <th>sens</th>\n",
       "      <th>acc_pct_change</th>\n",
       "    </tr>\n",
       "  </thead>\n",
       "  <tbody>\n",
       "    <tr>\n",
       "      <th>baseline</th>\n",
       "      <td>0.984246</td>\n",
       "      <td>NaN</td>\n",
       "      <td>0.000000</td>\n",
       "    </tr>\n",
       "    <tr>\n",
       "      <th>k_means</th>\n",
       "      <td>0.982883</td>\n",
       "      <td>0.0</td>\n",
       "      <td>-0.001385</td>\n",
       "    </tr>\n",
       "    <tr>\n",
       "      <th>mlp</th>\n",
       "      <td>0.978070</td>\n",
       "      <td>0.0</td>\n",
       "      <td>-0.006275</td>\n",
       "    </tr>\n",
       "    <tr>\n",
       "      <th>svm</th>\n",
       "      <td>0.978128</td>\n",
       "      <td>0.0</td>\n",
       "      <td>-0.006216</td>\n",
       "    </tr>\n",
       "  </tbody>\n",
       "</table>\n",
       "</div>"
      ],
      "text/plain": [
       "               acc  sens  acc_pct_change\n",
       "baseline  0.984246   NaN        0.000000\n",
       "k_means   0.982883   0.0       -0.001385\n",
       "mlp       0.978070   0.0       -0.006275\n",
       "svm       0.978128   0.0       -0.006216"
      ]
     },
     "execution_count": 23,
     "metadata": {},
     "output_type": "execute_result"
    }
   ],
   "source": [
    "test"
   ]
  },
  {
   "cell_type": "code",
   "execution_count": null,
   "metadata": {},
   "outputs": [],
   "source": []
  }
 ],
 "metadata": {
  "kernelspec": {
   "display_name": "Python 3",
   "language": "python",
   "name": "python3"
  },
  "language_info": {
   "codemirror_mode": {
    "name": "ipython",
    "version": 3
   },
   "file_extension": ".py",
   "mimetype": "text/x-python",
   "name": "python",
   "nbconvert_exporter": "python",
   "pygments_lexer": "ipython3",
   "version": "3.7.9"
  }
 },
 "nbformat": 4,
 "nbformat_minor": 4
}
