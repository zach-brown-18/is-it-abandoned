{
 "cells": [
  {
   "cell_type": "markdown",
   "id": "combined-demand",
   "metadata": {},
   "source": [
    "# Modeling\n",
    "\n",
    "Build x, y, and z models through a supervised learning approach."
   ]
  },
  {
   "cell_type": "code",
   "execution_count": null,
   "id": "capital-discussion",
   "metadata": {},
   "outputs": [],
   "source": [
    "import pickle"
   ]
  },
  {
   "cell_type": "code",
   "execution_count": null,
   "id": "satisfied-citizenship",
   "metadata": {},
   "outputs": [],
   "source": [
    "# Load the LiDAR GeoDataFrame\n",
    "pickled_file = open(\"las_file_geodf\", \"rb\")\n",
    "lidar_gdf = pickle.load(pickled_file)\n",
    "lidar_gdf"
   ]
  }
 ],
 "metadata": {
  "kernelspec": {
   "display_name": "Python 3",
   "language": "python",
   "name": "python3"
  },
  "language_info": {
   "codemirror_mode": {
    "name": "ipython",
    "version": 3
   },
   "file_extension": ".py",
   "mimetype": "text/x-python",
   "name": "python",
   "nbconvert_exporter": "python",
   "pygments_lexer": "ipython3",
   "version": "3.9.1"
  }
 },
 "nbformat": 4,
 "nbformat_minor": 5
}
